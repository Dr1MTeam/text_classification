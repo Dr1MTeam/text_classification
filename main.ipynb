{
 "cells": [
  {
   "cell_type": "markdown",
   "metadata": {},
   "source": [
    "Задание:\n",
    "1. Модель должна научиться классифицировать текст\n",
    "2. Должны выполнены три реализации модели. Реализации должны быть основаны на использовании:\n",
    "    - одномерной сверточной нейросети\n",
    "    - рекуррентной нейросети LSTM\n",
    "    - рекуррентной нейросети GRU\n",
    "3. Выполнить сравнение полученных результатов и сделать вывод\n",
    "\n",
    "Исходные данные:\n",
    "- для обучения: https://github.com/mhjabreel/CharCnn_Keras/raw/master/data/ag_news_csv/train.csv\n",
    "- для тестирования: https://github.com/mhjabreel/CharCnn_Keras/raw/master/data/ag_news_csv/test.csv\n",
    "- имена классов: https://raw.githubusercontent.com/mhjabreel/CharCnn_Keras/master/data/ag_news_csv/classes.txt\n"
   ]
  },
  {
   "cell_type": "code",
   "execution_count": null,
   "metadata": {},
   "outputs": [],
   "source": [
    "import torch\n",
    "import torch.nn as nn\n",
    "import torch.optim as optim\n",
    "from torch.nn import functional as F\n",
    "from transformers import AutoTokenizer"
   ]
  },
  {
   "cell_type": "code",
   "execution_count": 2,
   "metadata": {},
   "outputs": [],
   "source": [
    "# import os\n",
    "# from pathlib import Path\n",
    "# import requests\n",
    "from utils import check_data_path"
   ]
  },
  {
   "cell_type": "code",
   "execution_count": null,
   "metadata": {},
   "outputs": [],
   "source": [
    "# from tqdm import tqdm\n",
    "# from sklearn.metrics import f1_score, accuracy_score\n",
    "# from matplotlib import pyplot as plt\n",
    "# import torch\n",
    "from trainer import Trainer"
   ]
  },
  {
   "cell_type": "code",
   "execution_count": null,
   "metadata": {},
   "outputs": [],
   "source": [
    "# import torch\n",
    "# import torch.nn as nn\n",
    "from model import TextCNN, TextLSTM, TextGRU"
   ]
  },
  {
   "cell_type": "code",
   "execution_count": 3,
   "metadata": {},
   "outputs": [],
   "source": [
    "import pandas as pd\n"
   ]
  },
  {
   "cell_type": "markdown",
   "metadata": {},
   "source": [
    "# Data check"
   ]
  },
  {
   "cell_type": "code",
   "execution_count": 4,
   "metadata": {},
   "outputs": [],
   "source": [
    "PATH_TO_DATA = './data'\n"
   ]
  },
  {
   "cell_type": "code",
   "execution_count": 5,
   "metadata": {},
   "outputs": [],
   "source": [
    "links = {\n",
    "    'train.csv': 'https://github.com/mhjabreel/CharCnn_Keras/raw/master/data/ag_news_csv/train.csv',\n",
    "    'test.csv': 'https://github.com/mhjabreel/CharCnn_Keras/raw/master/data/ag_news_csv/test.csv',\n",
    "    'classes.txt': 'https://raw.githubusercontent.com/mhjabreel/CharCnn_Keras/master/data/ag_news_csv/classes.txt'\n",
    "}"
   ]
  },
  {
   "cell_type": "code",
   "execution_count": null,
   "metadata": {},
   "outputs": [
    {
     "data": {
      "text/plain": [
       "'Ok. All files exist.'"
      ]
     },
     "execution_count": 6,
     "metadata": {},
     "output_type": "execute_result"
    }
   ],
   "source": [
    "check_data_path(PATH_TO_DATA, links)\n",
    "# expecting \n",
    "# data/train.csv\n",
    "# data/test.csv\n",
    "# data/classes.txt"
   ]
  },
  {
   "cell_type": "markdown",
   "metadata": {},
   "source": [
    "# Data things"
   ]
  },
  {
   "cell_type": "code",
   "execution_count": 7,
   "metadata": {},
   "outputs": [],
   "source": [
    "df = pd.read_csv(PATH_TO_DATA + '/train.csv', header=None, names=[\"class\", \"description\", \"text\"])"
   ]
  },
  {
   "cell_type": "code",
   "execution_count": 8,
   "metadata": {},
   "outputs": [
    {
     "name": "stdout",
     "output_type": "stream",
     "text": [
      "<class 'pandas.core.frame.DataFrame'>\n",
      "RangeIndex: 120000 entries, 0 to 119999\n",
      "Data columns (total 3 columns):\n",
      " #   Column       Non-Null Count   Dtype \n",
      "---  ------       --------------   ----- \n",
      " 0   class        120000 non-null  int64 \n",
      " 1   description  120000 non-null  object\n",
      " 2   text         120000 non-null  object\n",
      "dtypes: int64(1), object(2)\n",
      "memory usage: 2.7+ MB\n"
     ]
    }
   ],
   "source": [
    "df.info()"
   ]
  },
  {
   "cell_type": "code",
   "execution_count": 9,
   "metadata": {},
   "outputs": [],
   "source": [
    "df_test = pd.read_csv(PATH_TO_DATA + '/test.csv', header=None, names=[\"class\", \"description\", \"text\"])"
   ]
  },
  {
   "cell_type": "code",
   "execution_count": 10,
   "metadata": {},
   "outputs": [
    {
     "name": "stdout",
     "output_type": "stream",
     "text": [
      "<class 'pandas.core.frame.DataFrame'>\n",
      "RangeIndex: 7600 entries, 0 to 7599\n",
      "Data columns (total 3 columns):\n",
      " #   Column       Non-Null Count  Dtype \n",
      "---  ------       --------------  ----- \n",
      " 0   class        7600 non-null   int64 \n",
      " 1   description  7600 non-null   object\n",
      " 2   text         7600 non-null   object\n",
      "dtypes: int64(1), object(2)\n",
      "memory usage: 178.3+ KB\n"
     ]
    }
   ],
   "source": [
    "df_test.info()"
   ]
  },
  {
   "cell_type": "code",
   "execution_count": 11,
   "metadata": {},
   "outputs": [],
   "source": [
    "DEVICE = 'cuda' if torch.cuda.is_available() else 'cpu'"
   ]
  },
  {
   "cell_type": "code",
   "execution_count": 12,
   "metadata": {},
   "outputs": [],
   "source": [
    "tokenizer = AutoTokenizer.from_pretrained(\"distilbert-base-uncased\")"
   ]
  },
  {
   "cell_type": "code",
   "execution_count": 13,
   "metadata": {},
   "outputs": [],
   "source": [
    "# max_length = max(df[\"text\"].apply(lambda x: len(tokenizer.tokenize(str(x)))))\n",
    "# max_length"
   ]
  },
  {
   "cell_type": "code",
   "execution_count": 14,
   "metadata": {},
   "outputs": [],
   "source": [
    "from torch.utils.data import Dataset, DataLoader"
   ]
  },
  {
   "cell_type": "code",
   "execution_count": 15,
   "metadata": {},
   "outputs": [],
   "source": [
    "class NewsDataset(Dataset):\n",
    "    def __init__(self, dataframe, tokenizer, max_length):\n",
    "        \"\"\"\n",
    "        Инициализация датасета с предварительной токенизацией.\n",
    "        \n",
    "        :param dataframe: pandas.DataFrame, содержащий данные с текстами и метками.\n",
    "        :param tokenizer: токенизатор (например, Hugging Face Tokenizer).\n",
    "        :param max_length: максимальная длина токенизированного текста.\n",
    "        \"\"\"\n",
    "        if not {\"text\", \"class\"}.issubset(dataframe.columns):\n",
    "            raise ValueError(\"DataFrame должен содержать колонки 'text' и 'class'\")\n",
    "        \n",
    "        self.data = []\n",
    "        self.max_length = max_length\n",
    "\n",
    "        for idx, row in dataframe.iterrows():\n",
    "            text = row[\"text\"]\n",
    "            label = row[\"class\"]\n",
    "\n",
    "            # Токенизация текста\n",
    "            encoded = tokenizer(\n",
    "                text,\n",
    "                padding=\"max_length\",\n",
    "                truncation=True,\n",
    "                max_length=max_length,\n",
    "                return_tensors=\"pt\",\n",
    "            )\n",
    "\n",
    "            # Вычисление длины текста до паддинга\n",
    "            input_ids = encoded[\"input_ids\"].squeeze(0)\n",
    "            attention_mask = encoded[\"attention_mask\"].squeeze(0)\n",
    "            length = attention_mask.sum().item()  # Сумма единиц в attention_mask\n",
    "\n",
    "            self.data.append({\n",
    "                \"input_ids\": input_ids,\n",
    "                \"attention_mask\": attention_mask,\n",
    "                \"length\": length,\n",
    "                \"label\": torch.tensor(label, dtype=torch.long),\n",
    "            })\n",
    "\n",
    "    def __len__(self):\n",
    "        \"\"\"\n",
    "        Возвращает количество элементов в датасете.\n",
    "        \"\"\"\n",
    "        return len(self.data)\n",
    "\n",
    "    def __getitem__(self, idx):\n",
    "        \"\"\"\n",
    "        Возвращает данные по индексу.\n",
    "        \n",
    "        :param idx: индекс элемента.\n",
    "        :return: словарь с input_ids, attention_mask, длиной текста и меткой.\n",
    "        \"\"\"\n",
    "        return self.data[idx]['input_ids'], self.data[idx]['length'], self.data[idx]['label'] - 1"
   ]
  },
  {
   "cell_type": "code",
   "execution_count": 16,
   "metadata": {},
   "outputs": [],
   "source": [
    "train_dataset = NewsDataset(dataframe=df, tokenizer=tokenizer, max_length=370)\n",
    "train_dataloader = DataLoader(train_dataset, batch_size=128, shuffle=True)"
   ]
  },
  {
   "cell_type": "code",
   "execution_count": 17,
   "metadata": {},
   "outputs": [],
   "source": [
    "test_dataset = NewsDataset(dataframe=df_test, tokenizer=tokenizer, max_length=370)\n",
    "test_dataloader = DataLoader(test_dataset, batch_size=128, shuffle=True)"
   ]
  },
  {
   "cell_type": "markdown",
   "metadata": {},
   "source": [
    "# Models"
   ]
  },
  {
   "cell_type": "code",
   "execution_count": 41,
   "metadata": {},
   "outputs": [],
   "source": [
    "tcnn = TextCNN(vocab_size=tokenizer.vocab_size,\n",
    "               embed_dim=768, \n",
    "               num_classes=4,\n",
    "               kernel_sizes=[3,4,5], \n",
    "               num_filters=32).to(device=DEVICE)\n",
    "\n",
    "\n",
    "hd = 128\n",
    "lstm = TextLSTM(vocab_size=tokenizer.vocab_size,\n",
    "                embed_dim=768,\n",
    "                hidden_dim=hd,\n",
    "                num_classes=4\n",
    "                ).to(DEVICE)\n",
    "\n",
    "gru = TextGRU(vocab_size=tokenizer.vocab_size,\n",
    "                embed_dim=768,\n",
    "                hidden_dim=hd,\n",
    "                num_classes=4).to(DEVICE)\n"
   ]
  },
  {
   "cell_type": "markdown",
   "metadata": {},
   "source": [
    "# Train"
   ]
  },
  {
   "cell_type": "code",
   "execution_count": null,
   "metadata": {},
   "outputs": [],
   "source": [
    "model = lstm"
   ]
  },
  {
   "cell_type": "code",
   "execution_count": null,
   "metadata": {},
   "outputs": [],
   "source": [
    "EPOCHS = 10\n",
    "learning_rate = 5e-4 # С ветерком перелетим локальные минимумы 😎\n",
    "# total_steps = len(train_dataloader) * EPOCHS\n",
    "\n",
    "optimizer = optim.AdamW(model.parameters(), lr=learning_rate, weight_decay=4e-6)\n",
    "# from adabelief_pytorch import AdaBelief\n",
    "# optimizer = AdaBelief(lstm.parameters(), lr=learning_rate, eps=learning_rate, betas=(0.9, 0.999), weight_decay=1e-2, weight_decouple=False, rectify=True, print_change_log = False)\n",
    "criterion = torch.nn.CrossEntropyLoss()\n",
    "scheduler = optim.lr_scheduler.ReduceLROnPlateau(optimizer, mode='min', factor=0.5, patience=5)\n",
    "# scheduler = optim.lr_scheduler.OneCycleLR(optimizer, max_lr=learning_rate , total_steps=total_steps, pct_start=0.1, anneal_strategy='linear')"
   ]
  },
  {
   "cell_type": "code",
   "execution_count": null,
   "metadata": {},
   "outputs": [
    {
     "name": "stderr",
     "output_type": "stream",
     "text": [
      "Training: 100%|██████████| 938/938 [00:46<00:00, 20.25it/s]\n",
      "Validating: 100%|██████████| 60/60 [00:00<00:00, 62.91it/s]\n"
     ]
    },
    {
     "name": "stdout",
     "output_type": "stream",
     "text": [
      "Validation Loss: 0.3273, Accuracy: 0.8871, F1 Score: 0.8871\n",
      "Epoch 1/10 - Train Loss: 0.4566, Val Loss: 0.3273, Acc: 0.8871, F1: 0.8871\n"
     ]
    },
    {
     "name": "stderr",
     "output_type": "stream",
     "text": [
      "Training: 100%|██████████| 938/938 [00:46<00:00, 20.18it/s]\n",
      "Validating: 100%|██████████| 60/60 [00:00<00:00, 62.68it/s]\n"
     ]
    },
    {
     "name": "stdout",
     "output_type": "stream",
     "text": [
      "Validation Loss: 0.3052, Accuracy: 0.8950, F1 Score: 0.8949\n",
      "Epoch 2/10 - Train Loss: 0.2238, Val Loss: 0.3052, Acc: 0.8950, F1: 0.8949\n"
     ]
    },
    {
     "name": "stderr",
     "output_type": "stream",
     "text": [
      "Training: 100%|██████████| 938/938 [00:47<00:00, 19.93it/s]\n",
      "Validating: 100%|██████████| 60/60 [00:00<00:00, 62.39it/s]\n"
     ]
    },
    {
     "name": "stdout",
     "output_type": "stream",
     "text": [
      "Validation Loss: 0.3220, Accuracy: 0.8968, F1 Score: 0.8969\n",
      "Epoch 3/10 - Train Loss: 0.1329, Val Loss: 0.3220, Acc: 0.8968, F1: 0.8969\n"
     ]
    },
    {
     "name": "stderr",
     "output_type": "stream",
     "text": [
      "Training: 100%|██████████| 938/938 [00:46<00:00, 20.03it/s]\n",
      "Validating: 100%|██████████| 60/60 [00:00<00:00, 61.47it/s]\n"
     ]
    },
    {
     "name": "stdout",
     "output_type": "stream",
     "text": [
      "Validation Loss: 0.3513, Accuracy: 0.8949, F1 Score: 0.8950\n",
      "Epoch 4/10 - Train Loss: 0.0719, Val Loss: 0.3513, Acc: 0.8949, F1: 0.8950\n"
     ]
    },
    {
     "name": "stderr",
     "output_type": "stream",
     "text": [
      "Training: 100%|██████████| 938/938 [00:46<00:00, 20.05it/s]\n",
      "Validating: 100%|██████████| 60/60 [00:00<00:00, 63.92it/s]\n"
     ]
    },
    {
     "name": "stdout",
     "output_type": "stream",
     "text": [
      "Validation Loss: 0.3801, Accuracy: 0.8955, F1 Score: 0.8954\n",
      "Epoch 5/10 - Train Loss: 0.0461, Val Loss: 0.3801, Acc: 0.8955, F1: 0.8954\n"
     ]
    },
    {
     "name": "stderr",
     "output_type": "stream",
     "text": [
      "Training:  59%|█████▊    | 550/938 [00:27<00:19, 20.16it/s]"
     ]
    }
   ],
   "source": [
    "trainer = Trainer(model = model,\n",
    "                  optimizer = optimizer,\n",
    "                  criterion = criterion,\n",
    "                  train_loader = train_dataloader, \n",
    "                  val_loader=test_dataloader,\n",
    "                  device = DEVICE,\n",
    "                  scheduler = scheduler)\n",
    "trainer.fit(EPOCHS)"
   ]
  },
  {
   "cell_type": "code",
   "execution_count": 38,
   "metadata": {},
   "outputs": [
    {
     "data": {
      "image/png": "[encoded data removed]",
      "text/plain": [
       "<Figure size 1000x500 with 1 Axes>"
      ]
     },
     "metadata": {},
     "output_type": "display_data"
    }
   ],
   "source": [
    "trainer.plot_f1()"
   ]
  }
 ],
 "metadata": {
  "kernelspec": {
   "display_name": "pip-torch",
   "language": "python",
   "name": "python3"
  },
  "language_info": {
   "codemirror_mode": {
    "name": "ipython",
    "version": 3
   },
   "file_extension": ".py",
   "mimetype": "text/x-python",
   "name": "python",
   "nbconvert_exporter": "python",
   "pygments_lexer": "ipython3",
   "version": "3.11.5"
  }
 },
 "nbformat": 4,
 "nbformat_minor": 2
}
